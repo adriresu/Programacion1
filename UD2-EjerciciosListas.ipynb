{
 "cells": [
  {
   "cell_type": "markdown",
   "id": "d5838ef9-b68b-42bd-8546-e459fc73a3a4",
   "metadata": {},
   "source": [
    "### Ejercicios Listas\n",
    "Definir una lista con los valores de 0 a 9 de nombre n"
   ]
  },
  {
   "cell_type": "code",
   "execution_count": 1,
   "id": "aaa39004-e0f0-4ae6-8ce4-2dea8da4500f",
   "metadata": {},
   "outputs": [
    {
     "name": "stdout",
     "output_type": "stream",
     "text": [
      "[0, 1, 2, 3, 4, 5, 6, 7, 8, 9]\n"
     ]
    }
   ],
   "source": [
    "n=[0, 1, 2, 3, 4, 5, 6, 7 ,8 ,9]\n",
    "print(n)"
   ]
  },
  {
   "cell_type": "markdown",
   "id": "a88845f4-e1da-4434-b483-13f1ed9f364c",
   "metadata": {},
   "source": [
    "Obtener en una lista n_par los valores de las posiciones pares de la lista n"
   ]
  },
  {
   "cell_type": "code",
   "execution_count": 2,
   "id": "d02e6307-e6c4-404c-8220-2ffd07422bdb",
   "metadata": {},
   "outputs": [
    {
     "name": "stdout",
     "output_type": "stream",
     "text": [
      "[0, 2, 4, 6, 8]\n"
     ]
    }
   ],
   "source": [
    "n_par=n[::2]\n",
    "print(n_par)"
   ]
  },
  {
   "cell_type": "markdown",
   "id": "a378dad5-4cd6-4bb2-af88-9e5cd19f4a2c",
   "metadata": {},
   "source": [
    "Obtener en una lista n_impar los valores de las posiciones impares de la lista n"
   ]
  },
  {
   "cell_type": "code",
   "execution_count": 4,
   "id": "2a5219f8-701d-4be2-8cd2-df55daf0b29f",
   "metadata": {},
   "outputs": [
    {
     "name": "stdout",
     "output_type": "stream",
     "text": [
      "[1, 3, 5, 7, 9]\n"
     ]
    }
   ],
   "source": [
    "n_impar=n[1::2]\n",
    "print(n_impar)"
   ]
  },
  {
   "cell_type": "markdown",
   "id": "263a1776-005a-44e6-ad7e-ef2536a974ac",
   "metadata": {},
   "source": [
    "Escribir una sentencia que sume los valores de las posiciones pares de la lista n (sin usar la lista n_par)"
   ]
  },
  {
   "cell_type": "code",
   "execution_count": 5,
   "id": "4e74b0aa-dcca-4328-8ba6-38d7c2bf4644",
   "metadata": {},
   "outputs": [
    {
     "name": "stdout",
     "output_type": "stream",
     "text": [
      "20\n"
     ]
    }
   ],
   "source": [
    "print(sum(n[::2]))"
   ]
  },
  {
   "cell_type": "markdown",
   "metadata": {},
   "source": [
    "Declarar la lista\n",
    "L0=[10, 20, 30, 40, 50]"
   ]
  },
  {
   "cell_type": "code",
   "execution_count": 244,
   "metadata": {},
   "outputs": [],
   "source": [
    "L0=[10, 20, 30, 40, 50]"
   ]
  },
  {
   "cell_type": "markdown",
   "metadata": {},
   "source": [
    "Haciendo uso de los métodos descritos en el notebook hacer obtener las listas\n",
    "\n",
    "L0A=[[30,40,50], [10,20]]\n",
    "\n",
    "L0B=[[50,40,30], [10,20]]\n"
   ]
  },
  {
   "cell_type": "code",
   "execution_count": 231,
   "metadata": {},
   "outputs": [
    {
     "name": "stdout",
     "output_type": "stream",
     "text": [
      "[[30, 40, 50], [10, 20]]\n",
      "[[50, 40, 30], [10, 20]]\n"
     ]
    }
   ],
   "source": [
    "L0A = [L0[2:], L0[:2]]\n",
    "L0B = [L0[::-1][:3], L0[:2]]\n",
    "print(L0A)\n",
    "print(L0B)"
   ]
  },
  {
   "cell_type": "markdown",
   "metadata": {},
   "source": [
    "Hacer que L0 quede como:\n",
    "L0=[[10,20][30,40,[50]]]"
   ]
  },
  {
   "cell_type": "code",
   "execution_count": 246,
   "metadata": {},
   "outputs": [
    {
     "name": "stdout",
     "output_type": "stream",
     "text": [
      "[[10, 20], [30, 40, [50]]]\n"
     ]
    }
   ],
   "source": [
    "L0temp = L0[2:4]\n",
    "L0temp.append([L0[-1]])\n",
    "L07 = [L0[0:2]] + [L0temp]\n",
    "print(L07)"
   ]
  },
  {
   "cell_type": "markdown",
   "metadata": {},
   "source": [
    "Declarar una lista \n",
    "L1=[10, 20, 30, [10, 20, 30], 1, 3, 7, [1, 3, 7]]"
   ]
  },
  {
   "cell_type": "code",
   "execution_count": 268,
   "metadata": {},
   "outputs": [
    {
     "name": "stdout",
     "output_type": "stream",
     "text": [
      "[10, 20, 30, [10, 20, 30], 1, 3, 7, [1, 3, 7]]\n"
     ]
    }
   ],
   "source": [
    "L1=[10, 20, 30, [10, 20, 30], 1, 3, 7, [1, 3, 7]]\n",
    "print(L1)"
   ]
  },
  {
   "cell_type": "markdown",
   "metadata": {},
   "source": [
    "Haciendo uso de los métodos descritos en el notebook, obtener la lista \n",
    "L2=[10, 20, 30, 10, 20, 30, 1, 3, 7, 1, 3, 7]"
   ]
  },
  {
   "cell_type": "code",
   "execution_count": 258,
   "metadata": {},
   "outputs": [
    {
     "name": "stdout",
     "output_type": "stream",
     "text": [
      "[10, 20, 30, 10, 20, 30, 1, 3, 7, 1, 3, 7]\n"
     ]
    }
   ],
   "source": [
    "L2=L1[:3] + L1[3] + L1[4:7] + L1[7]\n",
    "print(L2)"
   ]
  },
  {
   "cell_type": "markdown",
   "metadata": {},
   "source": [
    "Haciendo uso de los métodos descritos en el notebook, obtener la lista\n",
    "L3=[1, 3, 7, [7, 3, 1], 10, 20, 30, [30, 20, 10]]"
   ]
  },
  {
   "cell_type": "code",
   "execution_count": 296,
   "metadata": {},
   "outputs": [
    {
     "name": "stdout",
     "output_type": "stream",
     "text": [
      "[1, 3, 7, [7, 3, 1], 10, 20, 30, [30, 20, 10]]\n"
     ]
    }
   ],
   "source": [
    "# L1=[10, 20, 30, [10, 20, 30], 1, 3, 7, [1, 3, 7]]\n",
    "L3 = None\n",
    "L3 = L1[7] + [L1[7][::-1]] + L1[0:3] + [L1[3][::-1]]\n",
    "print(L3)"
   ]
  },
  {
   "cell_type": "markdown",
   "metadata": {},
   "source": [
    "Sea la lista\n",
    "L3=[1, 3, 7, 10, 20, 7, 30, 7, 40, 50]"
   ]
  },
  {
   "cell_type": "markdown",
   "metadata": {},
   "source": [
    "Haciendo uso de los métodos index, del, append y extend obtener la lista\n",
    "[1, 3, 10, 20, 30, 40, 50]"
   ]
  },
  {
   "cell_type": "code",
   "execution_count": 332,
   "metadata": {},
   "outputs": [
    {
     "name": "stdout",
     "output_type": "stream",
     "text": [
      "[1, 3, 10, 20, 30, 40, 50]\n",
      "[1, 3, 10, 20, 30, 40, 50]\n"
     ]
    }
   ],
   "source": [
    "L3=[1, 3, 7, 10, 20, 7, 30, 7, 40, 50]\n",
    "# How exactly do you want this to be done?\n",
    "# Use Append and extend in the array L3 has no sense\n",
    "\n",
    "# 1º Method\n",
    "L4 = []\n",
    "L4.extend(L3[0:2])\n",
    "L4.extend(L3[3:5])\n",
    "L4.append(L3[6])\n",
    "L4.append(L3[8])\n",
    "L4.append(L3[-1])\n",
    "\n",
    "# 2º Method\n",
    "L3.pop(L3.index(7))\n",
    "L3.pop(L3.index(7))\n",
    "L3.pop(L3.index(7))\n",
    "\n",
    "print(L4)\n",
    "print(L3)"
   ]
  }
 ],
 "metadata": {
  "kernelspec": {
   "display_name": "Python 3 (ipykernel)",
   "language": "python",
   "name": "python3"
  },
  "language_info": {
   "codemirror_mode": {
    "name": "ipython",
    "version": 3
   },
   "file_extension": ".py",
   "mimetype": "text/x-python",
   "name": "python",
   "nbconvert_exporter": "python",
   "pygments_lexer": "ipython3",
   "version": "3.11.5"
  }
 },
 "nbformat": 4,
 "nbformat_minor": 5
}
