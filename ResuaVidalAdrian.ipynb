{
 "cells": [
  {
   "cell_type": "markdown",
   "metadata": {},
   "source": [
    "<h2>Ejercicio 1</h2>"
   ]
  },
  {
   "cell_type": "markdown",
   "metadata": {},
   "source": [
    "1.1. Definir una Lista L0 de forma que L0=[['A','B','C'], [0,1,2], \"VCIF\", \"Grado\", \"Informática\"]. Mostrar L0"
   ]
  },
  {
   "cell_type": "code",
   "execution_count": 1,
   "metadata": {},
   "outputs": [
    {
     "name": "stdout",
     "output_type": "stream",
     "text": [
      "[['A', 'B', 'C'], [0, 1, 2], 'VCIF', 'Grado', 'Informática']\n"
     ]
    }
   ],
   "source": [
    "L0 = [['A','B','C'], [0,1,2], \"VCIF\", \"Grado\", \"Informática\"]\n",
    "print(L0)"
   ]
  },
  {
   "cell_type": "markdown",
   "metadata": {},
   "source": [
    "1.3. A partir de L0, obtener L2 de forma que L2=[['A', 'B', 'C', 'C', 'B', 'A'], [0, 1, 2, 2, 1, 0]]. Mostrar L1"
   ]
  },
  {
   "cell_type": "code",
   "execution_count": 2,
   "metadata": {},
   "outputs": [
    {
     "name": "stdout",
     "output_type": "stream",
     "text": [
      "[['A', 'B', 'C', 'C', 'B', 'A'], [0, 1, 2, 2, 1, 0]]\n"
     ]
    }
   ],
   "source": [
    "L2 = [L0[0] + L0[0][::-1], L0[1] + L0[1][::-1]]\n",
    "print(L2)"
   ]
  },
  {
   "cell_type": "markdown",
   "metadata": {},
   "source": [
    "1.2. A partir de L0 y haciendo uso de len, obtener L1 de forma que L1= [ [11, 5, 4], [2,1,0], ['C','B','A']]"
   ]
  },
  {
   "cell_type": "code",
   "execution_count": 3,
   "metadata": {},
   "outputs": [
    {
     "name": "stdout",
     "output_type": "stream",
     "text": [
      "[[11, 5, 4], [2, 1, 0], ['C', 'B', 'A']]\n"
     ]
    }
   ],
   "source": [
    "L1 = [[len(L0)*2 + 1,len(L0), len(L0)-1], L0[1][::-1], L0[0][::-1]]\n",
    "print(L1)"
   ]
  },
  {
   "cell_type": "markdown",
   "metadata": {},
   "source": [
    "1.3. A partir de L0, obtener L2 de forma que L2=[['A', 'B', 'C', 'C', 'B', 'A'], [0, 1, 2, 2, 1, 0]]. Mostrar L1"
   ]
  },
  {
   "cell_type": "code",
   "execution_count": 4,
   "metadata": {},
   "outputs": [
    {
     "name": "stdout",
     "output_type": "stream",
     "text": [
      "[['A', 'B', 'C', 'C', 'B', 'A'], [0, 1, 2, 2, 1, 0]]\n"
     ]
    }
   ],
   "source": [
    "L2 = [L0[0] + L0[0][::-1], L0[1] + L0[1][::-1]]\n",
    "print(L2)"
   ]
  },
  {
   "cell_type": "markdown",
   "metadata": {},
   "source": [
    "1.4. Haciendo uso de index, eliminar la cadena \"Grado\" de L0."
   ]
  },
  {
   "cell_type": "code",
   "execution_count": 24,
   "metadata": {},
   "outputs": [
    {
     "name": "stdout",
     "output_type": "stream",
     "text": [
      "[['A', 'B', 'C'], [0, 1, 2], 'VCIF', 'Grado', 'Informática']\n",
      "[['A', 'B', 'C'], [0, 1, 2], 'VCIF', 'Informática']\n"
     ]
    }
   ],
   "source": [
    "print(L0)\n",
    "del L0[L0.index(\"Grado\")]\n",
    "print(L0)"
   ]
  },
  {
   "cell_type": "markdown",
   "metadata": {},
   "source": [
    "1.5. A partir de L0 obtener L3 de forma que L3=[['ABC'], [3], \"VCIFInformatica\"]"
   ]
  },
  {
   "cell_type": "code",
   "execution_count": 34,
   "metadata": {},
   "outputs": [
    {
     "name": "stdout",
     "output_type": "stream",
     "text": [
      "[['ABC'], [3], 'VCIFInformática']\n"
     ]
    }
   ],
   "source": [
    "L3 = [[L0[0][0] + L0[0][1] + L0[0][2]], [L0[1][2] + L0[1][1]], L0[2] + L0[3]]\n",
    "print(L3)"
   ]
  },
  {
   "cell_type": "markdown",
   "metadata": {},
   "source": [
    "<h2>Ejercicio 2</h2>"
   ]
  },
  {
   "cell_type": "markdown",
   "metadata": {},
   "source": [
    "2.1 Cree un diccionario dicc de forma que se asignen las claves 0, 1 y 2 a los valores \"MALO\", \"REGULAR\", \"BUENO\""
   ]
  },
  {
   "cell_type": "code",
   "execution_count": 5,
   "metadata": {},
   "outputs": [
    {
     "name": "stdout",
     "output_type": "stream",
     "text": [
      "{0: 'MALO', 1: 'REGULAR', 2: 'BUENO'}\n",
      "<class 'dict'>\n"
     ]
    }
   ],
   "source": [
    "dicc = {0:\"MALO\", 1:\"REGULAR\", 2:\"BUENO\"}\n",
    "print(dicc)\n",
    "print(type(dicc))"
   ]
  },
  {
   "cell_type": "markdown",
   "metadata": {},
   "source": [
    "2.2 Localice las cadenas correspondientes a los valores máximo y mínimo de la clave haciendo uso de las funciones max y min"
   ]
  },
  {
   "cell_type": "code",
   "execution_count": 6,
   "metadata": {},
   "outputs": [
    {
     "name": "stdout",
     "output_type": "stream",
     "text": [
      "Máximo 2\n",
      "Mínimo 0\n"
     ]
    }
   ],
   "source": [
    "print(\"Máximo %s\" % max(dicc))\n",
    "print(\"Mínimo %s\" % min(dicc))"
   ]
  },
  {
   "cell_type": "markdown",
   "metadata": {},
   "source": [
    "<h2>Ejercicio 3</h2>"
   ]
  },
  {
   "cell_type": "markdown",
   "metadata": {},
   "source": [
    "3.1 Crea una función de nombre esMult7 que devuelva True si el valor recibido es múltiplo de 7"
   ]
  },
  {
   "cell_type": "code",
   "execution_count": 59,
   "metadata": {},
   "outputs": [],
   "source": [
    "def esMult7(val):\n",
    "    mult = True if val % 7 == 0 else False\n",
    "    return mult\n"
   ]
  },
  {
   "cell_type": "markdown",
   "metadata": {},
   "source": [
    "3.2 Utilize un bucle y la función definida en 3.1 para determinar cuantos múltiplos de 7 hay entre 0 y 99 y cuanto suman. "
   ]
  },
  {
   "cell_type": "code",
   "execution_count": 58,
   "metadata": {},
   "outputs": [
    {
     "name": "stdout",
     "output_type": "stream",
     "text": [
      "0\n",
      "7\n",
      "14\n",
      "21\n",
      "28\n",
      "35\n",
      "42\n",
      "49\n",
      "56\n",
      "63\n",
      "70\n",
      "77\n",
      "84\n",
      "91\n",
      "98\n",
      "735\n"
     ]
    }
   ],
   "source": [
    "suma = 0\n",
    "for num in range(0,99):\n",
    "    print(num) if esMult7(num) else None\n",
    "    suma += num if esMult7(num) else 0\n",
    "print(suma)"
   ]
  }
 ],
 "metadata": {
  "kernelspec": {
   "display_name": ".venv",
   "language": "python",
   "name": "python3"
  },
  "language_info": {
   "codemirror_mode": {
    "name": "ipython",
    "version": 3
   },
   "file_extension": ".py",
   "mimetype": "text/x-python",
   "name": "python",
   "nbconvert_exporter": "python",
   "pygments_lexer": "ipython3",
   "version": "3.11.5"
  }
 },
 "nbformat": 4,
 "nbformat_minor": 2
}
